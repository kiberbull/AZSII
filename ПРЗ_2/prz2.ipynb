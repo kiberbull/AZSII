{
 "cells": [
  {
   "cell_type": "code",
   "execution_count": 12,
   "id": "98c692b3-1bee-4489-846d-58bf52a256d2",
   "metadata": {},
   "outputs": [
    {
     "name": "stderr",
     "output_type": "stream",
     "text": [
      "2024-10-11 16:29:16.559729: W external/local_tsl/tsl/framework/cpu_allocator_impl.cc:83] Allocation of 31360000 exceeds 10% of free system memory.\n"
     ]
    },
    {
     "name": "stdout",
     "output_type": "stream",
     "text": [
      "313/313 - 0s - 867us/step - accuracy: 0.9729 - loss: 0.0883\n",
      "Test accuracy on clean images: 0.9729\n"
     ]
    }
   ],
   "source": [
    "# Перекомпиляция модели с правильной функцией потерь\n",
    "model.compile(optimizer='adam', \n",
    "              loss=tf.keras.losses.sparse_categorical_crossentropy, \n",
    "              metrics=['accuracy'])\n",
    "\n",
    "# Проверка точности модели на обычных данных\n",
    "test_loss, test_acc = model.evaluate(test_images, test_labels, verbose=2)\n",
    "print(f'Test accuracy on clean images: {test_acc:.4f}')\n"
   ]
  },
  {
   "cell_type": "code",
   "execution_count": 13,
   "id": "a699ebe3-3843-4884-b8a1-9825d62caa27",
   "metadata": {},
   "outputs": [
    {
     "name": "stderr",
     "output_type": "stream",
     "text": [
      "WARNING:absl:Compiled the loaded model, but the compiled metrics have yet to be built. `model.compile_metrics` will be empty until you train or evaluate the model.\n"
     ]
    },
    {
     "name": "stdout",
     "output_type": "stream",
     "text": [
      "313/313 - 0s - 748us/step - accuracy: 0.9729 - loss: 0.0883\n",
      "Test accuracy on clean images: 0.9729\n"
     ]
    },
    {
     "data": {
      "image/png": "[encoded data removed]",
      "text/plain": [
       "<Figure size 600x300 with 2 Axes>"
      ]
     },
     "metadata": {},
     "output_type": "display_data"
    }
   ],
   "source": [
    "import tensorflow as tf\n",
    "from tensorflow.keras.datasets import mnist\n",
    "import numpy as np\n",
    "import matplotlib.pyplot as plt\n",
    "\n",
    "# Загрузка тестовых данных MNIST\n",
    "(_, _), (test_images, test_labels) = mnist.load_data()\n",
    "test_images = test_images / 255.0\n",
    "test_images = test_images.reshape((-1, 28, 28, 1))  # Изменение формы изображений\n",
    "\n",
    "# Загрузка обученной модели\n",
    "model = tf.keras.models.load_model('mnist_model.h5')\n",
    "\n",
    "# Перекомпиляция модели с функцией потерь sparse_categorical_crossentropy\n",
    "model.compile(optimizer='adam', \n",
    "              loss=tf.keras.losses.sparse_categorical_crossentropy, \n",
    "              metrics=['accuracy'])\n",
    "\n",
    "# Проверка точности модели на обычных данных\n",
    "test_loss, test_acc = model.evaluate(test_images, test_labels, verbose=2)\n",
    "print(f'Test accuracy on clean images: {test_acc:.4f}')\n",
    "\n",
    "# Функция для реализации FGSM атаки\n",
    "def fgsm_attack(image, epsilon, gradient):\n",
    "    # Применение знака градиента к изображению\n",
    "    perturbed_image = image + epsilon * np.sign(gradient)\n",
    "    # Обрезка значений, чтобы они оставались в пределах [0,1]\n",
    "    perturbed_image = np.clip(perturbed_image, 0, 1)\n",
    "    return perturbed_image\n",
    "\n",
    "# Функция для генерации противоречивого примера\n",
    "def generate_adversarial_example(model, image, label, epsilon):\n",
    "    # Превращение изображения в формат, подходящий для модели\n",
    "    image = tf.convert_to_tensor(image.reshape((1, 28, 28, 1)), dtype=tf.float32)\n",
    "    label = tf.convert_to_tensor([label], dtype=tf.int64)\n",
    "\n",
    "    with tf.GradientTape() as tape:\n",
    "        tape.watch(image)\n",
    "        prediction = model(image)\n",
    "        loss = tf.keras.losses.sparse_categorical_crossentropy(label, prediction)\n",
    "\n",
    "    # Получение градиента по отношению к входному изображению\n",
    "    gradient = tape.gradient(loss, image)\n",
    "    \n",
    "    # Применение FGSM для создания противоречивого изображения\n",
    "    adversarial_image = fgsm_attack(image.numpy(), epsilon, gradient.numpy())\n",
    "    return adversarial_image\n",
    "\n",
    "# Пример использования FGSM атаки\n",
    "epsilon = 0.1  # Величина шума\n",
    "adversarial_example = generate_adversarial_example(model, test_images[0], test_labels[0], epsilon)\n",
    "\n",
    "# Вывод оригинального и противоречивого изображений\n",
    "plt.figure(figsize=(6, 3))\n",
    "plt.subplot(1, 2, 1)\n",
    "plt.title(\"Оригинальное изображение\")\n",
    "plt.imshow(test_images[0].reshape(28, 28), cmap=\"gray\")\n",
    "plt.axis('off')\n",
    "\n",
    "plt.subplot(1, 2, 2)\n",
    "plt.title(\"Противоречивое изображение\")\n",
    "plt.imshow(adversarial_example.reshape(28, 28), cmap=\"gray\")\n",
    "plt.axis('off')\n",
    "\n",
    "plt.show()\n"
   ]
  },
  {
   "cell_type": "code",
   "execution_count": 15,
   "id": "9e44050e-ecb2-4f63-8e38-46c58e3757bc",
   "metadata": {},
   "outputs": [
    {
     "name": "stdout",
     "output_type": "stream",
     "text": [
      "313/313 - 0s - 465us/step - accuracy: 0.0865 - loss: 7.5614\n",
      "Accuracy on adversarial examples: 0.0865\n"
     ]
    }
   ],
   "source": [
    "# Функция для генерации противоречивых примеров для всего набора данных\n",
    "def generate_adversarial_dataset(model, images, labels, epsilon):\n",
    "    adversarial_images = []\n",
    "    for i in range(len(images)):\n",
    "        # Генерация одного противоречивого примера\n",
    "        adv_image = generate_adversarial_example(model, images[i], labels[i], epsilon)\n",
    "        adversarial_images.append(adv_image)\n",
    "    return np.array(adversarial_images)\n",
    "\n",
    "# Генерация противоречивых примеров для тестового набора данных\n",
    "adversarial_images = generate_adversarial_dataset(model, test_images, test_labels, epsilon)\n",
    "\n",
    "# Проверка и изменение формы массива противоречивых изображений для оценки\n",
    "adversarial_images = adversarial_images.reshape((-1, 28, 28, 1))\n",
    "\n",
    "# Оценка модели на противоречивых примерах\n",
    "adversarial_loss, adversarial_acc = model.evaluate(adversarial_images, test_labels, verbose=2)\n",
    "print(f'Accuracy on adversarial examples: {adversarial_acc:.4f}')"
   ]
  },
  {
   "cell_type": "code",
   "execution_count": 16,
   "id": "3cef4e7c-e560-432e-9538-f5d928e1e9b9",
   "metadata": {},
   "outputs": [
    {
     "name": "stdout",
     "output_type": "stream",
     "text": [
      "313/313 - 0s - 456us/step - accuracy: 0.9729 - loss: 0.0883\n"
     ]
    },
    {
     "name": "stderr",
     "output_type": "stream",
     "text": [
      "2024-10-11 16:33:01.560243: W external/local_tsl/tsl/framework/cpu_allocator_impl.cc:83] Allocation of 31360000 exceeds 10% of free system memory.\n"
     ]
    },
    {
     "name": "stdout",
     "output_type": "stream",
     "text": [
      "Accuracy on clean images: 0.9729\n",
      "313/313 - 0s - 471us/step - accuracy: 0.0865 - loss: 7.5614\n",
      "Accuracy on adversarial examples: 0.0865\n",
      "\n",
      "Сравнение результатов:\n",
      "Точность на обычных изображениях: 0.9729\n",
      "Точность на противоречивых изображениях: 0.0865\n"
     ]
    },
    {
     "name": "stderr",
     "output_type": "stream",
     "text": [
      "2024-10-11 16:33:23.896221: W external/local_tsl/tsl/framework/cpu_allocator_impl.cc:83] Allocation of 31360000 exceeds 10% of free system memory.\n"
     ]
    }
   ],
   "source": [
    "# Оценка модели на обычных данных\n",
    "test_loss, test_acc = model.evaluate(test_images, test_labels, verbose=2)\n",
    "print(f'Accuracy on clean images: {test_acc:.4f}')\n",
    "\n",
    "# Генерация противоречивых примеров для всего тестового набора\n",
    "adversarial_images = generate_adversarial_dataset(model, test_images, test_labels, epsilon)\n",
    "\n",
    "# Преобразование формы противоречивых изображений для корректной работы с моделью\n",
    "adversarial_images = adversarial_images.reshape((-1, 28, 28, 1))\n",
    "\n",
    "# Оценка модели на противоречивых примерах\n",
    "adversarial_loss, adversarial_acc = model.evaluate(adversarial_images, test_labels, verbose=2)\n",
    "print(f'Accuracy on adversarial examples: {adversarial_acc:.4f}')\n",
    "\n",
    "# Вывод сравнения\n",
    "print(\"\\nСравнение результатов:\")\n",
    "print(f\"Точность на обычных изображениях: {test_acc:.4f}\")\n",
    "print(f\"Точность на противоречивых изображениях: {adversarial_acc:.4f}\")\n"
   ]
  },
  {
   "cell_type": "code",
   "execution_count": null,
   "id": "5e47a762-3057-4098-9e91-22bd55c94bc4",
   "metadata": {},
   "outputs": [],
   "source": []
  }
 ],
 "metadata": {
  "kernelspec": {
   "display_name": "Python 3 (ipykernel)",
   "language": "python",
   "name": "python3"
  },
  "language_info": {
   "codemirror_mode": {
    "name": "ipython",
    "version": 3
   },
   "file_extension": ".py",
   "mimetype": "text/x-python",
   "name": "python",
   "nbconvert_exporter": "python",
   "pygments_lexer": "ipython3",
   "version": "3.11.9"
  }
 },
 "nbformat": 4,
 "nbformat_minor": 5
}
