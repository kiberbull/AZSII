{
  "cells": [
    {
      "cell_type": "markdown",
      "metadata": {
        "id": "view-in-github",
        "colab_type": "text"
      },
      "source": [
        "<a href=\"https://colab.research.google.com/github/kiberbull/AZSII/blob/main/prz5.ipynb\" target=\"_parent\"><img src=\"https://colab.research.google.com/assets/colab-badge.svg\" alt=\"Open In Colab\"/></a>"
      ]
    },
    {
      "cell_type": "code",
      "source": [
        "# Подключение Google Drive\n",
        "from google.colab import drive\n",
        "drive.mount('/content/drive')\n",
        "\n",
        "# Переключение в рабочую директорию\n",
        "import os\n",
        "os.chdir('/content/drive/MyDrive/Colab Notebooks/ASZI')\n",
        "\n",
        "# Установка необходимых библиотек\n",
        "!pip install art adversarial-robustness-toolbox foolbox tensorflow numpy matplotlib sklearn\n",
        "\n",
        "# Импорты\n",
        "import tensorflow as tf\n",
        "import numpy as np\n",
        "import matplotlib.pyplot as plt\n",
        "from tensorflow.keras.models import load_model\n",
        "from tensorflow.keras.datasets import mnist\n",
        "from tensorflow.keras.utils import to_categorical\n",
        "from art.estimators.classification import TensorFlowV2Classifier\n",
        "from art.attacks.evasion import ProjectedGradientDescent\n",
        "import foolbox as fb\n",
        "\n"
      ],
      "metadata": {
        "colab": {
          "base_uri": "https://localhost:8080/"
        },
        "id": "SkoGckK5QLqA",
        "outputId": "fa3b934c-4ca3-41d9-d66a-8c5c49e907a9"
      },
      "id": "SkoGckK5QLqA",
      "execution_count": 1,
      "outputs": [
        {
          "output_type": "stream",
          "name": "stdout",
          "text": [
            "Drive already mounted at /content/drive; to attempt to forcibly remount, call drive.mount(\"/content/drive\", force_remount=True).\n",
            "Requirement already satisfied: art in /usr/local/lib/python3.10/dist-packages (6.4)\n",
            "Requirement already satisfied: adversarial-robustness-toolbox in /usr/local/lib/python3.10/dist-packages (1.18.2)\n",
            "Requirement already satisfied: foolbox in /usr/local/lib/python3.10/dist-packages (3.3.4)\n",
            "Requirement already satisfied: tensorflow in /usr/local/lib/python3.10/dist-packages (2.17.1)\n",
            "Requirement already satisfied: numpy in /usr/local/lib/python3.10/dist-packages (1.26.4)\n",
            "Requirement already satisfied: matplotlib in /usr/local/lib/python3.10/dist-packages (3.8.0)\n",
            "Collecting sklearn\n",
            "  Using cached sklearn-0.0.post12.tar.gz (2.6 kB)\n",
            "  \u001b[1;31merror\u001b[0m: \u001b[1msubprocess-exited-with-error\u001b[0m\n",
            "  \n",
            "  \u001b[31m×\u001b[0m \u001b[32mpython setup.py egg_info\u001b[0m did not run successfully.\n",
            "  \u001b[31m│\u001b[0m exit code: \u001b[1;36m1\u001b[0m\n",
            "  \u001b[31m╰─>\u001b[0m See above for output.\n",
            "  \n",
            "  \u001b[1;35mnote\u001b[0m: This error originates from a subprocess, and is likely not a problem with pip.\n",
            "  Preparing metadata (setup.py) ... \u001b[?25l\u001b[?25herror\n",
            "\u001b[1;31merror\u001b[0m: \u001b[1mmetadata-generation-failed\u001b[0m\n",
            "\n",
            "\u001b[31m×\u001b[0m Encountered error while generating package metadata.\n",
            "\u001b[31m╰─>\u001b[0m See above for output.\n",
            "\n",
            "\u001b[1;35mnote\u001b[0m: This is an issue with the package mentioned above, not pip.\n",
            "\u001b[1;36mhint\u001b[0m: See above for details.\n"
          ]
        }
      ]
    },
    {
      "cell_type": "code",
      "source": [
        "# Загрузка обученной модели\n",
        "model = load_model('mnist_model.h5')\n",
        "\n",
        "# Компиляция модели вручную\n",
        "model.compile(optimizer='adam', loss='categorical_crossentropy', metrics=['accuracy'])\n",
        "\n"
      ],
      "metadata": {
        "colab": {
          "base_uri": "https://localhost:8080/"
        },
        "id": "gPTXjttyQOcR",
        "outputId": "70c4cb42-ee2d-40b6-e195-597847a08141"
      },
      "id": "gPTXjttyQOcR",
      "execution_count": 2,
      "outputs": [
        {
          "output_type": "stream",
          "name": "stderr",
          "text": [
            "WARNING:absl:No training configuration found in the save file, so the model was *not* compiled. Compile it manually.\n"
          ]
        }
      ]
    },
    {
      "cell_type": "code",
      "source": [
        "# Загрузка данных MNIST\n",
        "(x_train, y_train), (x_test, y_test) = mnist.load_data()\n",
        "\n",
        "# Подготовка данных\n",
        "x_test = x_test.astype(np.float32) / 255.0  # Нормализация данных\n",
        "x_test = np.expand_dims(x_test, axis=-1)   # Добавление размерности канала\n",
        "y_test_one_hot = to_categorical(y_test, 10)  # Преобразование меток в one-hot формат\n",
        "\n"
      ],
      "metadata": {
        "id": "euF8BHemQRja"
      },
      "id": "euF8BHemQRja",
      "execution_count": 3,
      "outputs": []
    },
    {
      "cell_type": "code",
      "source": [
        "# Создание Foolbox модели\n",
        "fmodel = fb.models.TensorFlowModel(model, bounds=(0, 1))\n",
        "\n",
        "# Создание PGD-атаки\n",
        "attack = fb.attacks.LinfPGD()\n",
        "\n",
        "# Выбор изображения для атаки\n",
        "image = tf.convert_to_tensor(x_test[0].reshape(1, 28, 28, 1), dtype=tf.float32)  # Преобразование изображения\n",
        "label = np.argmax(y_test[0])  # Индекс класса\n",
        "label_tensor = tf.convert_to_tensor([label], dtype=tf.int32)  # Преобразование метки в тензор с нужной формой\n",
        "\n",
        "# Выполнение атаки\n",
        "adversarial_image, _, success = attack(fmodel, image, label_tensor, epsilons=0.01)\n",
        "\n",
        "# Визуализация\n",
        "plt.figure(figsize=(10, 5))\n",
        "plt.subplot(1, 2, 1)\n",
        "plt.title(\"Оригинальное изображение\")\n",
        "plt.imshow(tf.squeeze(image).numpy(), cmap=\"gray\")\n",
        "plt.axis('off')\n",
        "\n",
        "plt.subplot(1, 2, 2)\n",
        "plt.title(\"Противоречивое изображение (PGD)\")\n",
        "plt.imshow(tf.squeeze(adversarial_image).numpy(), cmap=\"gray\")\n",
        "plt.axis('off')\n",
        "\n",
        "plt.tight_layout()\n",
        "plt.show()\n"
      ],
      "metadata": {
        "colab": {
          "base_uri": "https://localhost:8080/",
          "height": 523
        },
        "id": "Kt_cBFrIQVAD",
        "outputId": "1c909c8d-f19e-4213-cd49-c5f822e08406"
      },
      "id": "Kt_cBFrIQVAD",
      "execution_count": 5,
      "outputs": [
        {
          "output_type": "display_data",
          "data": {
            "text/plain": [
              "<Figure size 1000x500 with 2 Axes>"
            ],
            "image/png": "[encoded data removed]"
          },
          "metadata": {}
        }
      ]
    }
  ],
  "metadata": {
    "kernelspec": {
      "display_name": "Python 3",
      "name": "python3"
    },
    "language_info": {
      "codemirror_mode": {
        "name": "ipython",
        "version": 3
      },
      "file_extension": ".py",
      "mimetype": "text/x-python",
      "name": "python",
      "nbconvert_exporter": "python",
      "pygments_lexer": "ipython3",
      "version": "3.11.9"
    },
    "colab": {
      "provenance": [],
      "gpuType": "T4",
      "include_colab_link": true
    },
    "accelerator": "GPU"
  },
  "nbformat": 4,
  "nbformat_minor": 5
}