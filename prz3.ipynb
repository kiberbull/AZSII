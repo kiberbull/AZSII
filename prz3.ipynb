{
  "cells": [
    {
      "cell_type": "markdown",
      "metadata": {
        "id": "view-in-github",
        "colab_type": "text"
      },
      "source": [
        "<a href=\"https://colab.research.google.com/github/kiberbull/AZSII/blob/main/prz3.ipynb\" target=\"_parent\"><img src=\"https://colab.research.google.com/assets/colab-badge.svg\" alt=\"Open In Colab\"/></a>"
      ]
    },
    {
      "cell_type": "code",
      "source": [
        "from google.colab import drive\n",
        "drive.mount('/content/drive')"
      ],
      "metadata": {
        "colab": {
          "base_uri": "https://localhost:8080/"
        },
        "id": "RG_OZfKptIva",
        "outputId": "52bf14f0-8c94-42df-97a4-6e27a28a1c41"
      },
      "id": "RG_OZfKptIva",
      "execution_count": 1,
      "outputs": [
        {
          "output_type": "stream",
          "name": "stdout",
          "text": [
            "Drive already mounted at /content/drive; to attempt to forcibly remount, call drive.mount(\"/content/drive\", force_remount=True).\n"
          ]
        }
      ]
    },
    {
      "cell_type": "code",
      "source": [
        "import os\n",
        "os.chdir('/content/drive/MyDrive/Colab Notebooks/ASZI')\n",
        "os.getcwd()\n"
      ],
      "metadata": {
        "colab": {
          "base_uri": "https://localhost:8080/",
          "height": 36
        },
        "id": "N_h53GOhtSK_",
        "outputId": "dbd380aa-7ffe-4f52-b49f-64eb831b6927"
      },
      "id": "N_h53GOhtSK_",
      "execution_count": 2,
      "outputs": [
        {
          "output_type": "execute_result",
          "data": {
            "text/plain": [
              "'/content/drive/MyDrive/Colab Notebooks/ASZI'"
            ],
            "application/vnd.google.colaboratory.intrinsic+json": {
              "type": "string"
            }
          },
          "metadata": {},
          "execution_count": 2
        }
      ]
    },
    {
      "cell_type": "code",
      "source": [
        "import tensorflow as tf\n",
        "from tensorflow.keras.datasets import mnist\n",
        "from tensorflow.keras.utils import to_categorical\n",
        "\n",
        "# Загрузка данных MNIST\n",
        "(_, _), (test_images, test_labels) = mnist.load_data()\n",
        "\n",
        "# Нормализация данных\n",
        "test_images = test_images / 255.0\n",
        "\n",
        "# Преобразование меток в формат one-hot encoding\n",
        "test_labels = to_categorical(test_labels, num_classes=10)\n",
        "\n",
        "# Загрузка обученной модели\n",
        "model = tf.keras.models.load_model('mnist_model.h5')\n",
        "\n",
        "# Компиляция модели\n",
        "model.compile(optimizer='adam',\n",
        "              loss='categorical_crossentropy',\n",
        "              metrics=['accuracy'])\n",
        "\n",
        "# Проверка точности модели на тестовых данных\n",
        "test_loss, test_acc = model.evaluate(test_images, test_labels)\n",
        "print(f\"Test accuracy on clean images: {test_acc}\")\n"
      ],
      "metadata": {
        "colab": {
          "base_uri": "https://localhost:8080/"
        },
        "id": "68gk22MpvMoe",
        "outputId": "06d02f7f-4379-4e08-c0f4-5c72cc3855e7"
      },
      "id": "68gk22MpvMoe",
      "execution_count": 3,
      "outputs": [
        {
          "output_type": "stream",
          "name": "stderr",
          "text": [
            "WARNING:absl:No training configuration found in the save file, so the model was *not* compiled. Compile it manually.\n"
          ]
        },
        {
          "output_type": "stream",
          "name": "stdout",
          "text": [
            "\u001b[1m313/313\u001b[0m \u001b[32m━━━━━━━━━━━━━━━━━━━━\u001b[0m\u001b[37m\u001b[0m \u001b[1m2s\u001b[0m 3ms/step - accuracy: 0.1056 - loss: 2.3705\n",
            "Test accuracy on clean images: 0.11259999871253967\n"
          ]
        }
      ]
    },
    {
      "cell_type": "code",
      "source": [
        "!pip install foolbox"
      ],
      "metadata": {
        "colab": {
          "base_uri": "https://localhost:8080/"
        },
        "id": "ITzs2YJow8uE",
        "outputId": "a3abde4a-3c9c-4732-d8ea-ec5270572bb2"
      },
      "id": "ITzs2YJow8uE",
      "execution_count": 4,
      "outputs": [
        {
          "output_type": "stream",
          "name": "stdout",
          "text": [
            "Requirement already satisfied: foolbox in /usr/local/lib/python3.10/dist-packages (3.3.4)\n",
            "Requirement already satisfied: numpy in /usr/local/lib/python3.10/dist-packages (from foolbox) (1.26.4)\n",
            "Requirement already satisfied: scipy in /usr/local/lib/python3.10/dist-packages (from foolbox) (1.13.1)\n",
            "Requirement already satisfied: setuptools in /usr/local/lib/python3.10/dist-packages (from foolbox) (75.1.0)\n",
            "Requirement already satisfied: eagerpy>=0.30.0 in /usr/local/lib/python3.10/dist-packages (from foolbox) (0.30.0)\n",
            "Requirement already satisfied: GitPython>=3.0.7 in /usr/local/lib/python3.10/dist-packages (from foolbox) (3.1.43)\n",
            "Requirement already satisfied: typing-extensions>=3.7.4.1 in /usr/local/lib/python3.10/dist-packages (from foolbox) (4.12.2)\n",
            "Requirement already satisfied: requests>=2.24.0 in /usr/local/lib/python3.10/dist-packages (from foolbox) (2.32.3)\n",
            "Requirement already satisfied: gitdb<5,>=4.0.1 in /usr/local/lib/python3.10/dist-packages (from GitPython>=3.0.7->foolbox) (4.0.11)\n",
            "Requirement already satisfied: charset-normalizer<4,>=2 in /usr/local/lib/python3.10/dist-packages (from requests>=2.24.0->foolbox) (3.4.0)\n",
            "Requirement already satisfied: idna<4,>=2.5 in /usr/local/lib/python3.10/dist-packages (from requests>=2.24.0->foolbox) (3.10)\n",
            "Requirement already satisfied: urllib3<3,>=1.21.1 in /usr/local/lib/python3.10/dist-packages (from requests>=2.24.0->foolbox) (2.2.3)\n",
            "Requirement already satisfied: certifi>=2017.4.17 in /usr/local/lib/python3.10/dist-packages (from requests>=2.24.0->foolbox) (2024.8.30)\n",
            "Requirement already satisfied: smmap<6,>=3.0.1 in /usr/local/lib/python3.10/dist-packages (from gitdb<5,>=4.0.1->GitPython>=3.0.7->foolbox) (5.0.1)\n"
          ]
        }
      ]
    },
    {
      "cell_type": "code",
      "source": [
        "import torch\n",
        "import torch.nn as nn\n",
        "import foolbox as fb\n",
        "import numpy as np\n",
        "import matplotlib.pyplot as plt\n",
        "import tensorflow as tf\n",
        "\n",
        "# Создание модели для использования с Foolbox\n",
        "adversarial_model = fb.TensorFlowModel(model, bounds=(0, 1))\n",
        "\n",
        "# Извлечение изображения для атаки\n",
        "input_image = tf.convert_to_tensor(test_images[1], dtype=tf.float32)[None, ...]\n",
        "predicted_label = np.argmax(test_labels[0])\n",
        "predicted_label_tensor = tf.convert_to_tensor(predicted_label, dtype=tf.int64)\n",
        "\n",
        "# Инициализация атаки\n",
        "l2_attack = fb.attacks.L2CarliniWagnerAttack(steps=3)\n",
        "print(predicted_label_tensor)\n",
        "perturbed_images, _, was_successful = l2_attack(adversarial_model, input_image, predicted_label_tensor[None], epsilons=0.01)  # Обертывание метки в тензор с размерностью (1,)\n",
        "\n",
        "# Отображение результатов\n",
        "plt.figure(figsize=(10, 5))\n",
        "plt.subplot(1, 2, 1)\n",
        "plt.title(\"Оригинальное изображение\")\n",
        "plt.imshow(input_image[0].numpy(), cmap=\"gray\")\n",
        "plt.axis('off')\n",
        "\n",
        "plt.subplot(1, 2, 2)\n",
        "plt.title(\"Изображение с атакой (CW Attack)\")\n",
        "plt.imshow(perturbed_images[0].numpy(), cmap=\"gray\")\n",
        "plt.axis('off')\n",
        "plt.show()\n"
      ],
      "metadata": {
        "colab": {
          "base_uri": "https://localhost:8080/",
          "height": 486
        },
        "id": "foTeczzfxEFJ",
        "outputId": "f2ff9535-868f-42ff-c7a8-db825b2daa90"
      },
      "id": "foTeczzfxEFJ",
      "execution_count": 5,
      "outputs": [
        {
          "output_type": "stream",
          "name": "stderr",
          "text": [
            "WARNING:tensorflow:From /usr/local/lib/python3.10/dist-packages/foolbox/models/tensorflow.py:13: is_gpu_available (from tensorflow.python.framework.test_util) is deprecated and will be removed in a future version.\n",
            "Instructions for updating:\n",
            "Use `tf.config.list_physical_devices('GPU')` instead.\n"
          ]
        },
        {
          "output_type": "stream",
          "name": "stdout",
          "text": [
            "tf.Tensor(7, shape=(), dtype=int64)\n"
          ]
        },
        {
          "output_type": "display_data",
          "data": {
            "text/plain": [
              "<Figure size 1000x500 with 2 Axes>"
            ],
            "image/png": "[encoded data removed]"
          },
          "metadata": {}
        }
      ]
    },
    {
      "cell_type": "code",
      "source": [
        "import random\n",
        "import tensorflow as tf\n",
        "import numpy as np\n",
        "import foolbox as fb\n",
        "\n",
        "# Подмножество данных\n",
        "subset_size = len(test_images) // 10  # 10% данных\n",
        "subset_indices = random.sample(range(len(test_images)), subset_size)\n",
        "subset_images = np.array([test_images[i] for i in subset_indices])\n",
        "subset_labels = np.array([test_labels[i] for i in subset_indices])  # Преобразование в массив\n",
        "\n",
        "# Пакетная обработка\n",
        "batch_size = 32\n",
        "adversarial_images = []\n",
        "\n",
        "# Атака с уменьшением количества шагов\n",
        "l2_attack = fb.attacks.L2CarliniWagnerAttack(steps=1)\n",
        "\n",
        "for start_idx in range(0, len(subset_images), batch_size):\n",
        "    end_idx = min(start_idx + batch_size, len(subset_images))\n",
        "    batch_images = tf.convert_to_tensor(subset_images[start_idx:end_idx], dtype=tf.float32)\n",
        "    batch_labels = np.argmax(subset_labels[start_idx:end_idx], axis=1)  # Используем индексы классов\n",
        "    batch_labels = tf.convert_to_tensor(batch_labels, dtype=tf.int64)\n",
        "\n",
        "    # Атака на пакет изображений\n",
        "    advs, _, success = l2_attack(adversarial_model, batch_images, batch_labels, epsilons=0.01)\n",
        "    adversarial_images.append(advs)\n",
        "\n",
        "# Конкатенация всех пакетов\n",
        "adversarial_images = tf.concat(adversarial_images, axis=0)\n",
        "\n",
        "# Оценка точности модели\n",
        "subset_labels_one_hot = tf.convert_to_tensor(subset_labels, dtype=tf.float32)  # Преобразование в тензор\n",
        "adversarial_loss, adversarial_acc = model.evaluate(adversarial_images, subset_labels_one_hot)\n",
        "print(f'Accuracy on adversarial examples (CW attack): {adversarial_acc}')\n"
      ],
      "metadata": {
        "colab": {
          "base_uri": "https://localhost:8080/"
        },
        "id": "A4E5LBX73qUL",
        "outputId": "1020cb7a-13b4-454d-bac9-2390bfe2b8b3"
      },
      "id": "A4E5LBX73qUL",
      "execution_count": 11,
      "outputs": [
        {
          "output_type": "stream",
          "name": "stdout",
          "text": [
            "\u001b[1m32/32\u001b[0m \u001b[32m━━━━━━━━━━━━━━━━━━━━\u001b[0m\u001b[37m\u001b[0m \u001b[1m1s\u001b[0m 16ms/step - accuracy: 0.0124 - loss: 2.4342\n",
            "Accuracy on adversarial examples (CW attack): 0.012000000104308128\n"
          ]
        }
      ]
    }
  ],
  "metadata": {
    "kernelspec": {
      "display_name": "Python 3",
      "name": "python3"
    },
    "language_info": {
      "codemirror_mode": {
        "name": "ipython",
        "version": 3
      },
      "file_extension": ".py",
      "mimetype": "text/x-python",
      "name": "python",
      "nbconvert_exporter": "python",
      "pygments_lexer": "ipython3",
      "version": "3.11.9"
    },
    "colab": {
      "provenance": [],
      "gpuType": "T4",
      "include_colab_link": true
    },
    "accelerator": "GPU"
  },
  "nbformat": 4,
  "nbformat_minor": 5
}